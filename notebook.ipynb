{
 "cells": [
  {
   "cell_type": "code",
   "execution_count": null,
   "metadata": {},
   "outputs": [],
   "source": [
    "import networkx as nx\n",
    "import pandas as pd\n",
    "import numpy as np"
   ]
  },
  {
   "cell_type": "markdown",
   "metadata": {},
   "source": [
    "# read data"
   ]
  },
  {
   "cell_type": "code",
   "execution_count": null,
   "metadata": {},
   "outputs": [],
   "source": [
    "nodes_addresses = pd.read_csv(\"./data/nodes-addresses.csv\", low_memory=False, index_col=0)\n",
    "nodes_addresses[\"node_type\"] = [\"Address\"]*len(nodes_addresses)\n",
    "\n",
    "nodes_entities = pd.read_csv(\"./data/nodes-entities.csv\", low_memory=False, index_col=0)\n",
    "nodes_entities[\"node_type\"] = [\"Entity\"]*len(nodes_entities)\n",
    "\n",
    "nodes_intermediaries = pd.read_csv(\"./data/nodes-intermediaries.csv\", low_memory=False, index_col=0)\n",
    "nodes_intermediaries[\"node_type\"] = [\"Intermediary\"]*len(nodes_intermediaries)\n",
    "\n",
    "nodes_officers = pd.read_csv(\"./data/nodes-officers.csv\", low_memory=False, index_col=0)\n",
    "nodes_officers[\"node_type\"] = [\"Officer\"]*len(nodes_officers)\n",
    "\n",
    "nodes_others = pd.read_csv(\"./data/nodes-others.csv\", low_memory=False, index_col=0)\n",
    "nodes_others[\"node_type\"] = [\"Other\"]*len(nodes_others)\n",
    "\n",
    "relationships = pd.read_csv(\"./data/relationships.csv\", low_memory=False).set_index([\"node_id_start\", \"node_id_end\"])\n",
    "\n",
    "print(\"Address example: \")\n",
    "display(nodes_addresses.iloc[0].to_frame())\n",
    "print(\"Entity example: \")\n",
    "display(nodes_entities.iloc[0].to_frame())\n",
    "print(\"Intermediary example: \")\n",
    "display(nodes_intermediaries.iloc[0].to_frame())\n",
    "print(\"Officer example: \")\n",
    "display(nodes_officers.iloc[0].to_frame())\n",
    "print(\"Other example: \")\n",
    "display(nodes_others.iloc[0].to_frame())\n",
    "print(\"Relationship example: \")\n",
    "display(relationships.iloc[0].to_frame())\n",
    "\n",
    "G = nx.MultiDiGraph() #directed multi-edge graph\n",
    "G.add_nodes_from([(key, value) for key, value in nodes_addresses.to_dict(\"index\").items()])\n",
    "G.add_nodes_from([(key, value) for key, value in nodes_entities.to_dict(\"index\").items()])\n",
    "G.add_nodes_from([(key, value) for key, value in nodes_intermediaries.to_dict(\"index\").items()])\n",
    "G.add_nodes_from([(key, value) for key, value in nodes_officers.to_dict(\"index\").items()])\n",
    "G.add_nodes_from([(key, value) for key, value in nodes_others.to_dict(\"index\").items()])\n",
    "G.add_edges_from([(*relationships.index[i], value) for i, value in enumerate(relationships.to_dict(orient='records'))])\n",
    "\n",
    "del nodes_addresses\n",
    "del nodes_entities\n",
    "del nodes_intermediaries\n",
    "del nodes_officers\n",
    "del nodes_others\n",
    "del relationships"
   ]
  },
  {
   "cell_type": "code",
   "execution_count": null,
   "metadata": {},
   "outputs": [
    {
     "data": {
      "text/plain": [
       "3339267"
      ]
     },
     "execution_count": 4,
     "metadata": {},
     "output_type": "execute_result"
    }
   ],
   "source": [
    "G.size()"
   ]
  }
 ],
 "metadata": {
  "kernelspec": {
   "display_name": "san-project-eQU7FBKZ-py3.11",
   "language": "python",
   "name": "python3"
  },
  "language_info": {
   "codemirror_mode": {
    "name": "ipython",
    "version": 3
   },
   "file_extension": ".py",
   "mimetype": "text/x-python",
   "name": "python",
   "nbconvert_exporter": "python",
   "pygments_lexer": "ipython3",
   "version": "3.11.4"
  }
 },
 "nbformat": 4,
 "nbformat_minor": 2
}
