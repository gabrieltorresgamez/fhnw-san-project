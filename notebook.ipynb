{
 "cells": [
  {
   "cell_type": "markdown",
   "metadata": {},
   "source": [
    "<div style=\"width: 30%; float: right; margin: 10px; margin-right: 5%;\">\n",
    "    <img src=\"https://upload.wikimedia.org/wikipedia/commons/thumb/d/d3/FHNW_Logo.svg/2560px-FHNW_Logo.svg.png\" width=\"500\" style=\"float: left; filter: invert(50%);\"/>\n",
    "</div>\n",
    "\n",
    "<h1 style=\"text-align: left; margin-top: 10px; float: left; width: 60%;\">\n",
    "    SAN Projekt:<br> Schweizer Offshore Firmen\n",
    "</h1>\n",
    "\n",
    "<p style=\"clear: both; text-align: left;\">\n",
    "    Bearbeitet durch Florin Barbisch, Gabriel Torres Gamez und Tobias Buess im FS 2024.\n",
    "</p>"
   ]
  },
  {
   "cell_type": "markdown",
   "metadata": {},
   "source": [
    "Wir führen eine Voranalyse für das Bundesamt für Statistik durch, um die kürzlich aufgetretenen Leaks aus den Offshore Papers zu untersuchen. \n",
    "\n",
    "Diese Analyse zielt darauf ab, Umfang und Natur der Verbindungen in Schweizer Offshore-Strukturen zu ermitteln. Wir verwenden dafür Daten aus der [Offshore Leaks Database](https://offshoreleaks.icij.org/), um mögliche Muster, wichtige Personen aufzudecken, die für die Steuerbehörden oder Regulierungsorgane von Interesse sein könnten. \n",
    "\n",
    "Unsere Arbeit umfasst eine detaillierte Prüfung der betroffenen Entitäten. Dies wird es dem Bundesamt für Statistik ermöglichen, fundierte Entscheidungen zur weiteren Untersuchung und möglichen Massnahmen zu treffen."
   ]
  },
  {
   "cell_type": "markdown",
   "metadata": {},
   "source": [
    "## Inhalt\n",
    "1. Wie sehen die Daten aus? Was für Informationen können wir daraus ziehen?\n",
    "2. Grobe Metriken zu Schweizer Officers und deren Offshore Firmen.\n",
    "3. ..."
   ]
  },
  {
   "cell_type": "code",
   "execution_count": 1,
   "metadata": {},
   "outputs": [],
   "source": [
    "import os\n",
    "import numpy as np\n",
    "import pandas as pd\n",
    "import networkx as nx\n",
    "import matplotlib.pyplot as plt\n",
    "import re"
   ]
  },
  {
   "cell_type": "markdown",
   "metadata": {},
   "source": [
    "# Daten laden"
   ]
  },
  {
   "cell_type": "code",
   "execution_count": 3,
   "metadata": {},
   "outputs": [],
   "source": [
    "def remove_special_characters(text):\n",
    "    # Stellen Sie sicher, dass der Text ein String ist\n",
    "    if isinstance(text, str):\n",
    "        # Entfernt alles außer Buchstaben, Ziffern, Leerzeichen und grundlegenden Satzzeichen\n",
    "        return re.sub(r'[^\\w\\s,.]', '', text)\n",
    "    return text\n",
    "\n",
    "nodes_addresses = pd.read_csv(\"./data/nodes-addresses.csv\", low_memory=False, index_col=0).astype(str).map(remove_special_characters)\n",
    "nodes_addresses[\"node_type\"] = [\"Address\"]*len(nodes_addresses)\n",
    "\n",
    "nodes_entities = pd.read_csv(\"./data/nodes-entities.csv\", low_memory=False, index_col=0).astype(str).map(remove_special_characters)\n",
    "nodes_entities[\"node_type\"] = [\"Entity\"]*len(nodes_entities)\n",
    "\n",
    "nodes_intermediaries = pd.read_csv(\"./data/nodes-intermediaries.csv\", low_memory=False, index_col=0).astype(str).map(remove_special_characters)\n",
    "nodes_intermediaries[\"node_type\"] = [\"Intermediary\"]*len(nodes_intermediaries)\n",
    "\n",
    "nodes_officers = pd.read_csv(\"./data/nodes-officers.csv\", low_memory=False, index_col=0).astype(str).map(remove_special_characters)\n",
    "nodes_officers[\"node_type\"] = [\"Officer\"]*len(nodes_officers)\n",
    "\n",
    "nodes_others = pd.read_csv(\"./data/nodes-others.csv\", low_memory=False, index_col=0).astype(str).map(remove_special_characters)\n",
    "nodes_others[\"node_type\"] = [\"Other\"]*len(nodes_others)\n",
    "\n",
    "relationships = pd.read_csv(\"./data/relationships.csv\", low_memory=False).set_index([\"node_id_start\", \"node_id_end\"]).astype(str).map(remove_special_characters)\n",
    "\n",
    "G = nx.MultiDiGraph() #directed multi-edge graph\n",
    "G.add_nodes_from([(key, value) for key, value in nodes_addresses.to_dict(\"index\").items()])\n",
    "G.add_nodes_from([(key, value) for key, value in nodes_entities.to_dict(\"index\").items()])\n",
    "G.add_nodes_from([(key, value) for key, value in nodes_intermediaries.to_dict(\"index\").items()])\n",
    "G.add_nodes_from([(key, value) for key, value in nodes_officers.to_dict(\"index\").items()])\n",
    "G.add_nodes_from([(key, value) for key, value in nodes_others.to_dict(\"index\").items()])\n",
    "G.add_edges_from([(*relationships.index[i], value) for i, value in enumerate(relationships.to_dict(orient='records'))])\n",
    "\n",
    "del nodes_addresses\n",
    "del nodes_entities\n",
    "del nodes_intermediaries\n",
    "del nodes_officers\n",
    "del nodes_others\n",
    "del relationships\n",
    "\n",
    "graph = G\n",
    "del G"
   ]
  },
  {
   "cell_type": "code",
   "execution_count": 10,
   "metadata": {},
   "outputs": [
    {
     "data": {
      "text/plain": [
       "['similar',\n",
       " 'same_as',\n",
       " 'similar_company_as',\n",
       " 'same_company_as',\n",
       " 'same_name_as',\n",
       " 'same_intermediary_as',\n",
       " 'intermediary_of',\n",
       " 'officer_of',\n",
       " 'connected_to',\n",
       " 'registered_address']"
      ]
     },
     "execution_count": 10,
     "metadata": {},
     "output_type": "execute_result"
    }
   ],
   "source": [
    "# get the edge types\n",
    "edge_types = set()\n",
    "for edge in graph.edges(data=True):\n",
    "    # only if node type is Entity or Intermediary\n",
    "    if graph.nodes[edge[0]][\"node_type\"] in [\"Entity\", \"Intermediary\"] \\\n",
    "    and graph.nodes[edge[1]][\"node_type\"] in [\"Entity\", \"Intermediary\"]:\n",
    "        edge_types.add(edge[2][\"rel_type\"])\n",
    "\n",
    "edge_types = list(edge_types)\n",
    "edge_types"
   ]
  },
  {
   "cell_type": "code",
   "execution_count": 13,
   "metadata": {},
   "outputs": [
    {
     "name": "stdout",
     "output_type": "stream",
     "text": [
      "Number of Swiss intermediaries: 1332\n"
     ]
    }
   ],
   "source": [
    "# get all the swiss intermediaries\n",
    "swiss_intermediaries = []\n",
    "for node in graph.nodes(data=True):\n",
    "    if node[1][\"node_type\"] == \"Intermediary\" and \"Switzerland\" in node[1][\"countries\"]:\n",
    "        swiss_intermediaries.append(node[0])\n",
    "print(f\"Number of Swiss intermediaries: {len(swiss_intermediaries)}\")"
   ]
  },
  {
   "cell_type": "code",
   "execution_count": 58,
   "metadata": {},
   "outputs": [
    {
     "name": "stdout",
     "output_type": "stream",
     "text": [
      "Number of entities with more than one swiss intermediary: 0\n"
     ]
    }
   ],
   "source": [
    "# create a new set of edges that connect the swiss intermediaries\n",
    "# give them a weight and increase it with every entity they are connected to\n",
    "\n",
    "# all edges point from an intermediary to an entity\n",
    "swiss_intermediary_edges = {} # key: entity, value: {swiss_intermediary: weight}\n",
    "for intermediary in swiss_intermediaries:\n",
    "    edges = graph.edges(intermediary, data=True)\n",
    "    if len(edges) < 1:\n",
    "        continue\n",
    "    for edge in edges:\n",
    "        other_node = graph.nodes[edge[1]]\n",
    "        if other_node[\"node_type\"] == \"Entity\":\n",
    "            if edge[1] in swiss_intermediary_edges:\n",
    "                swiss_intermediary_edges[edge[1]][intermediary] = swiss_intermediary_edges[edge[1]].get(intermediary, 0) + 1\n",
    "            else:\n",
    "                swiss_intermediary_edges[edge[1]] = {intermediary: 1}\n",
    "n_intermediaries = [len(x) for x in swiss_intermediary_edges.values() if len(x) > 1]\n",
    "print(f\"Number of entities with more than one swiss intermediary: {len(n_intermediaries)}\")"
   ]
  },
  {
   "cell_type": "markdown",
   "metadata": {},
   "source": [
    "Fazit: ein Entity hat maximal 1 Intermediary. Intermediaries können also nicht über mehrere Entities verknüpft werden.\n",
    "\n",
    "Wir können also noch versuchen die Intermediaries über die Officers zu verknüpfen. Dazu macht es aber Sinn, zuerst herauszufinden, ob Officers<>Entities oder Officers<>Intermediaries mehr Verbindungen haben könnten."
   ]
  },
  {
   "cell_type": "code",
   "execution_count": 63,
   "metadata": {},
   "outputs": [
    {
     "name": "stdout",
     "output_type": "stream",
     "text": [
      "Number of connections between officers and entities: 770259, number of officers with more than one entity: 198175\n"
     ]
    }
   ],
   "source": [
    "def get_cardinality(graph, node_type_1, node_type_2):\n",
    "    \"\"\"\n",
    "    Get the cardinality of node_type_1 to node_type_2\n",
    "\n",
    "    Parameters:\n",
    "    graph: nx.MultiDiGraph\n",
    "    node_type_1: str\n",
    "    node_type_2: str\n",
    "\n",
    "    Returns:\n",
    "    int: number of connections\n",
    "    int: number of nodes with more than one connection\n",
    "    \"\"\"\n",
    "    cardinality = {}\n",
    "    for node in graph.nodes(data=True):\n",
    "        if node[1][\"node_type\"] == node_type_1:\n",
    "            edges = graph.edges(node[0], data=True)\n",
    "            if len(edges) < 1:\n",
    "                continue\n",
    "            for edge in edges:\n",
    "                other_node = graph.nodes[edge[1]]\n",
    "                if other_node[\"node_type\"] == node_type_2:\n",
    "                    if node[0] in cardinality:\n",
    "                        cardinality[node[0]].append(edge[1])\n",
    "                    else:\n",
    "                        cardinality[node[0]] = [edge[1]]\n",
    "    return len(cardinality), len([len(x) for x in cardinality.values() if len(x) > 1])\n",
    "# get the cardinality of officers to entities\n",
    "n_connections, n_multiple_connections = get_cardinality(graph, \"Officer\", \"Entity\")\n",
    "print(f\"Number of connections between officers and entities: {n_connections}, number of officers with more than one entity: {n_multiple_connections}\")"
   ]
  },
  {
   "cell_type": "code",
   "execution_count": 129,
   "metadata": {},
   "outputs": [
    {
     "name": "stdout",
     "output_type": "stream",
     "text": [
      "Intermediary 54/1332 2673\r"
     ]
    }
   ],
   "source": [
    "node_types = set()\n",
    "longest_path = 0\n",
    "swiss_intermediary_edges = {} # key: (intermediary_1, intermediary_2), value: [distance]\n",
    "\n",
    "graph_undirected = graph.to_undirected(as_view=True)\n",
    "\n",
    "for i, intermediary in enumerate(swiss_intermediaries):\n",
    "    print(f\"Intermediary {i+1}/{len(swiss_intermediaries)}\", len(swiss_intermediary_edges), end=\"\\r\")\n",
    "    shortest_paths = {}\n",
    "    for other_intermediary in swiss_intermediaries:\n",
    "        if other_intermediary < intermediary:\n",
    "            try:\n",
    "                shortest_paths[other_intermediary] = nx.shortest_path(graph_undirected, intermediary, other_intermediary)\n",
    "            except nx.NetworkXNoPath:\n",
    "                pass\n",
    "    for node, path in shortest_paths.items():\n",
    "        if len(path) > longest_path:\n",
    "            longest_path = len(path)\n",
    "        for node in path:\n",
    "            node_types.add(graph.nodes[node][\"node_type\"])\n",
    "        if node in swiss_intermediaries and node != intermediary:\n",
    "            if node < intermediary:\n",
    "                key = (node, intermediary)\n",
    "            else:\n",
    "                key = (intermediary, node)\n",
    "                print(\"ALAARM!!!!!\")\n",
    "            swiss_intermediary_edges[key] = swiss_intermediary_edges.get(key, []) + [len(path)-1]\n",
    "\n",
    "print(f\"Longest path from swiss intermediary to entity: {longest_path}\")\n",
    "print(f\"Node types in shortest path: {node_types}\")\n",
    "print(f\"Number of intermediary pairs with multiple paths: {len([edge for edge in swiss_intermediary_edges.keys() if len(swiss_intermediary_edges[edge]) > 1])}\")"
   ]
  },
  {
   "cell_type": "code",
   "execution_count": 128,
   "metadata": {},
   "outputs": [
    {
     "data": {
      "text/plain": [
       "6750"
      ]
     },
     "execution_count": 128,
     "metadata": {},
     "output_type": "execute_result"
    }
   ],
   "source": [
    "len(swiss_intermediary_edges)"
   ]
  },
  {
   "cell_type": "code",
   "execution_count": 104,
   "metadata": {},
   "outputs": [
    {
     "data": {
      "text/plain": [
       "[((11000007, 11000007), [0]),\n",
       " ((11000010, 11000010), [0]),\n",
       " ((11000016, 11000016), [0]),\n",
       " ((11000018, 11000018), [0]),\n",
       " ((11000019, 11000019), [0])]"
      ]
     },
     "execution_count": 104,
     "metadata": {},
     "output_type": "execute_result"
    }
   ],
   "source": [
    "list(swiss_intermediary_edges.items())[:5]"
   ]
  },
  {
   "cell_type": "code",
   "execution_count": 91,
   "metadata": {},
   "outputs": [],
   "source": [
    "# longest path of 5 validates that cutoff=10 is sufficient\n",
    "# the Number of intermediary pairs with multiple paths: 0 validates that we only have shortest path between intermediaries\n",
    "\n",
    "# create a new graph with the swiss intermediaries\n",
    "swiss_intermediaries_graph = nx.Graph()\n",
    "swiss_intermediaries_graph.add_nodes_from([(node, graph.nodes[node]) for node in swiss_intermediaries])\n",
    "swiss_intermediaries_graph.add_edges_from([(key[0], key[1], {\"weight\": np.mean(value)}) for key, value in swiss_intermediary_edges.items()])"
   ]
  },
  {
   "cell_type": "code",
   "execution_count": 90,
   "metadata": {},
   "outputs": [
    {
     "name": "stdout",
     "output_type": "stream",
     "text": [
      "Node 11000007: {'name': 'FIGEST CONSEIL S.A.', 'status': 'ACTIVE', 'internal_id': '10064', 'address': 'nan', 'countries': 'Switzerland', 'country_codes': 'CHE', 'sourceID': 'Panama Papers', 'valid_until': 'The Panama Papers  data is current through 2015', 'note': 'nan', 'node_type': 'Intermediary'}\n"
     ]
    }
   ],
   "source": [
    "swiss_intermediaries_graph.add_nodes_from([(node, graph.nodes[node]) for node in swiss_intermediaries])\n",
    "# add \n",
    "# get a random node\n",
    "node = swiss_intermediaries[0]\n",
    "\n",
    "print(f\"Node {node}: {swiss_intermediaries_graph.nodes[node]}\")"
   ]
  },
  {
   "cell_type": "code",
   "execution_count": 94,
   "metadata": {},
   "outputs": [
    {
     "data": {
      "text/plain": [
       "(1332, 1332)"
      ]
     },
     "execution_count": 94,
     "metadata": {},
     "output_type": "execute_result"
    }
   ],
   "source": [
    "swiss_intermediaries_graph.number_of_edges(), swiss_intermediaries_graph.number_of_nodes()"
   ]
  },
  {
   "cell_type": "code",
   "execution_count": 100,
   "metadata": {},
   "outputs": [
    {
     "name": "stdout",
     "output_type": "stream",
     "text": [
      "Top 5 degrees: [2, 2, 2, 2, 2]\n",
      "Bottom 5 degrees: [2, 2, 2, 2, 2]\n"
     ]
    }
   ],
   "source": [
    "# get a list with the degree of each node\n",
    "degrees = [degree for node, degree in swiss_intermediaries_graph.degree()]\n",
    "degrees_sorted = sorted(degrees, reverse=True)\n",
    "print(f\"Top 5 degrees: {degrees_sorted[:5]}\")\n",
    "print(f\"Bottom 5 degrees: {degrees_sorted[-5:]}\")"
   ]
  },
  {
   "cell_type": "code",
   "execution_count": 64,
   "metadata": {},
   "outputs": [
    {
     "name": "stdout",
     "output_type": "stream",
     "text": [
      "Number of connections between entities and officers: 605, number of entities with more than one officer: 10\n"
     ]
    }
   ],
   "source": [
    "n_connections, n_multiple_connections = get_cardinality(graph, \"Entity\", \"Officer\")\n",
    "print(f\"Number of connections between entities and officers: {n_connections}, number of entities with more than one officer: {n_multiple_connections}\")"
   ]
  },
  {
   "cell_type": "markdown",
   "metadata": {},
   "source": [
    "## Wie sehen die Daten aus? Was für Informationen können wir daraus ziehen?"
   ]
  },
  {
   "cell_type": "markdown",
   "metadata": {},
   "source": []
  },
  {
   "cell_type": "markdown",
   "metadata": {},
   "source": [
    "## Grobe Metriken zu schweizer Officers und deren Offshore Firmen."
   ]
  },
  {
   "cell_type": "code",
   "execution_count": null,
   "metadata": {},
   "outputs": [],
   "source": []
  },
  {
   "cell_type": "markdown",
   "metadata": {},
   "source": [
    "## ..."
   ]
  },
  {
   "cell_type": "code",
   "execution_count": null,
   "metadata": {},
   "outputs": [],
   "source": []
  }
 ],
 "metadata": {
  "kernelspec": {
   "display_name": "san-project-eQU7FBKZ-py3.11",
   "language": "python",
   "name": "python3"
  },
  "language_info": {
   "codemirror_mode": {
    "name": "ipython",
    "version": 3
   },
   "file_extension": ".py",
   "mimetype": "text/x-python",
   "name": "python",
   "nbconvert_exporter": "python",
   "pygments_lexer": "ipython3",
   "version": "3.12.2"
  }
 },
 "nbformat": 4,
 "nbformat_minor": 2
}
