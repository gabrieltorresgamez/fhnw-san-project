{
 "cells": [
  {
   "cell_type": "markdown",
   "metadata": {},
   "source": [
    "<div style=\"width: 30%; float: right; margin: 10px; margin-right: 5%;\">\n",
    "    <img src=\"https://upload.wikimedia.org/wikipedia/commons/thumb/d/d3/FHNW_Logo.svg/2560px-FHNW_Logo.svg.png\" width=\"500\" style=\"float: left; filter: invert(50%);\"/>\n",
    "</div>\n",
    "\n",
    "<h1 style=\"text-align: left; margin-top: 10px; float: left; width: 60%;\">\n",
    "    SAN Projekt:<br> Schweizer Offshore Firmen\n",
    "</h1>\n",
    "\n",
    "<p style=\"clear: both; text-align: left;\">\n",
    "    Bearbeitet durch Florin Barbisch, Gabriel Torres Gamez und Tobias Buess im FS 2024.\n",
    "</p>"
   ]
  },
  {
   "cell_type": "markdown",
   "metadata": {},
   "source": [
    "Wir führen eine Voranalyse für das Bundesamt für Statistik durch, um die kürzlich aufgetretenen Leaks aus den Offshore Papers zu untersuchen. \n",
    "\n",
    "Diese Analyse zielt darauf ab, Umfang und Natur der Verbindungen in Schweizer Offshore-Strukturen zu ermitteln. Wir verwenden dafür Daten aus der [Offshore Leaks Database](https://offshoreleaks.icij.org/), um mögliche Muster, wichtige Personen aufzudecken, die für die Steuerbehörden oder Regulierungsorgane von Interesse sein könnten. \n",
    "\n",
    "Unsere Arbeit umfasst eine detaillierte Prüfung der betroffenen Entitäten. Dies wird es dem Bundesamt für Statistik ermöglichen, fundierte Entscheidungen zur weiteren Untersuchung und möglichen Massnahmen zu treffen."
   ]
  },
  {
   "cell_type": "markdown",
   "metadata": {},
   "source": [
    "## Inhalt\n",
    "1. Wie sehen die Daten aus? Was für Informationen können wir daraus ziehen?\n",
    "2. Grobe Metriken zu Schweizer Officers und deren Offshore Firmen.\n",
    "3. ..."
   ]
  },
  {
   "cell_type": "code",
   "execution_count": 1,
   "metadata": {},
   "outputs": [],
   "source": [
    "import os\n",
    "import numpy as np\n",
    "import pandas as pd\n",
    "import networkx as nx\n",
    "import matplotlib.pyplot as plt\n",
    "import re"
   ]
  },
  {
   "cell_type": "markdown",
   "metadata": {},
   "source": [
    "# Daten laden"
   ]
  },
  {
   "cell_type": "code",
   "execution_count": 2,
   "metadata": {},
   "outputs": [],
   "source": [
    "def remove_special_characters(text):\n",
    "    # Stellen Sie sicher, dass der Text ein String ist\n",
    "    if isinstance(text, str):\n",
    "        # Entfernt alles außer Buchstaben, Ziffern, Leerzeichen und grundlegenden Satzzeichen\n",
    "        return re.sub(r'[^\\w\\s,.]', '', text)\n",
    "    return text\n",
    "\n",
    "if not os.path.exists(\"./data/graph.gexf\"):\n",
    "    nodes_addresses = pd.read_csv(\"./data/nodes-addresses.csv\", low_memory=False, index_col=0).astype(str).map(remove_special_characters)\n",
    "    nodes_addresses[\"node_type\"] = [\"Address\"]*len(nodes_addresses)\n",
    "\n",
    "    nodes_entities = pd.read_csv(\"./data/nodes-entities.csv\", low_memory=False, index_col=0).astype(str).map(remove_special_characters)\n",
    "    nodes_entities[\"node_type\"] = [\"Entity\"]*len(nodes_entities)\n",
    "\n",
    "    nodes_intermediaries = pd.read_csv(\"./data/nodes-intermediaries.csv\", low_memory=False, index_col=0).astype(str).map(remove_special_characters)\n",
    "    nodes_intermediaries[\"node_type\"] = [\"Intermediary\"]*len(nodes_intermediaries)\n",
    "\n",
    "    nodes_officers = pd.read_csv(\"./data/nodes-officers.csv\", low_memory=False, index_col=0).astype(str).map(remove_special_characters)\n",
    "    nodes_officers[\"node_type\"] = [\"Officer\"]*len(nodes_officers)\n",
    "\n",
    "    nodes_others = pd.read_csv(\"./data/nodes-others.csv\", low_memory=False, index_col=0).astype(str).map(remove_special_characters)\n",
    "    nodes_others[\"node_type\"] = [\"Other\"]*len(nodes_others)\n",
    "\n",
    "    relationships = pd.read_csv(\"./data/relationships.csv\", low_memory=False).set_index([\"node_id_start\", \"node_id_end\"]).astype(str).map(remove_special_characters)\n",
    "\n",
    "    G = nx.MultiDiGraph() #directed multi-edge graph\n",
    "    G.add_nodes_from([(key, value) for key, value in nodes_addresses.to_dict(\"index\").items()])\n",
    "    G.add_nodes_from([(key, value) for key, value in nodes_entities.to_dict(\"index\").items()])\n",
    "    G.add_nodes_from([(key, value) for key, value in nodes_intermediaries.to_dict(\"index\").items()])\n",
    "    G.add_nodes_from([(key, value) for key, value in nodes_officers.to_dict(\"index\").items()])\n",
    "    G.add_nodes_from([(key, value) for key, value in nodes_others.to_dict(\"index\").items()])\n",
    "    G.add_edges_from([(*relationships.index[i], value) for i, value in enumerate(relationships.to_dict(orient='records'))])\n",
    "\n",
    "    del nodes_addresses\n",
    "    del nodes_entities\n",
    "    del nodes_intermediaries\n",
    "    del nodes_officers\n",
    "    del nodes_others\n",
    "    del relationships\n",
    "\n",
    "    nx.write_gexf(G, \"./data/graph.gexf\")\n",
    "\n",
    "    del G\n",
    "\n",
    "graph = nx.read_gexf(\"./data/graph.gexf\")"
   ]
  },
  {
   "cell_type": "markdown",
   "metadata": {},
   "source": [
    "## Wie sehen die Daten aus? Was für Informationen können wir daraus ziehen?"
   ]
  },
  {
   "cell_type": "markdown",
   "metadata": {},
   "source": []
  },
  {
   "cell_type": "markdown",
   "metadata": {},
   "source": [
    "## Grobe Metriken zu schweizer Officers und deren Offshore Firmen."
   ]
  },
  {
   "cell_type": "code",
   "execution_count": null,
   "metadata": {},
   "outputs": [],
   "source": []
  },
  {
   "cell_type": "markdown",
   "metadata": {},
   "source": [
    "## ..."
   ]
  },
  {
   "cell_type": "code",
   "execution_count": null,
   "metadata": {},
   "outputs": [],
   "source": []
  }
 ],
 "metadata": {
  "kernelspec": {
   "display_name": "san-project-eQU7FBKZ-py3.11",
   "language": "python",
   "name": "python3"
  },
  "language_info": {
   "codemirror_mode": {
    "name": "ipython",
    "version": 3
   },
   "file_extension": ".py",
   "mimetype": "text/x-python",
   "name": "python",
   "nbconvert_exporter": "python",
   "pygments_lexer": "ipython3",
   "version": "3.12.2"
  }
 },
 "nbformat": 4,
 "nbformat_minor": 2
}
