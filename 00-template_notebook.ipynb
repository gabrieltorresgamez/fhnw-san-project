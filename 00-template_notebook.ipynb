{
 "cells": [
  {
   "cell_type": "markdown",
   "metadata": {},
   "source": [
    "<div style=\"width: 30%; float: right; margin: 10px; margin-right: 5%;\">\n",
    "    <img src=\"https://upload.wikimedia.org/wikipedia/commons/thumb/d/d3/FHNW_Logo.svg/2560px-FHNW_Logo.svg.png\" width=\"500\" style=\"float: left; filter: invert(50%);\"/>\n",
    "</div>\n",
    "\n",
    "<h1 style=\"text-align: left; margin-top: 10px; float: left; width: 60%;\">\n",
    "    SAN Projekt:<br> Schweizer Offshore Firmen\n",
    "</h1>\n",
    "\n",
    "<p style=\"clear: both; text-align: left;\">\n",
    "    Bearbeitet durch Florin Barbisch, Gabriel Torres Gamez und Tobias Buess im FS 2024.\n",
    "</p>"
   ]
  },
  {
   "cell_type": "markdown",
   "metadata": {},
   "source": [
    "Wir führen eine Voranalyse für das Bundesamt für Statistik durch, um die kürzlich aufgetretenen Leaks aus den Offshore Papers zu untersuchen. \n",
    "\n",
    "Diese Analyse zielt darauf ab, Umfang und Natur der Verbindungen in Schweizer Offshore-Strukturen zu ermitteln. Wir verwenden dafür Daten aus der [Offshore Leaks Database](https://offshoreleaks.icij.org/), um mögliche Muster, wichtige Personen aufzudecken, die für die Steuerbehörden oder Regulierungsorgane von Interesse sein könnten. \n",
    "\n",
    "Unsere Arbeit umfasst eine detaillierte Prüfung der betroffenen Entitäten. Dies wird es dem Bundesamt für Statistik ermöglichen, fundierte Entscheidungen zur weiteren Untersuchung und möglichen Massnahmen zu treffen."
   ]
  },
  {
   "cell_type": "markdown",
   "metadata": {},
   "source": [
    "## Imports und Einstellungen"
   ]
  },
  {
   "cell_type": "code",
   "execution_count": 1,
   "metadata": {},
   "outputs": [
    {
     "name": "stdout",
     "output_type": "stream",
     "text": [
      "Python Environment:\n",
      " | Python version: 3.10.12 (main, Nov 20 2023, 15:14:05) [GCC 11.4.0]\n",
      " | Numpy version: 1.26.4\n",
      " | Pandas version: 2.2.1\n",
      " | Matplotlib version: 3.8.4\n",
      " | NetworkX version: 3.3\n",
      " | NetworkX backend: cugraph\n",
      " | CuGraph version: 24.04.00\n",
      "\n",
      "Ressources:\n",
      " | CPU: 24 cores\n"
     ]
    }
   ],
   "source": [
    "# Python internal modules\n",
    "import os\n",
    "\n",
    "# Project modules\n",
    "import utils\n",
    "\n",
    "# External modules\n",
    "import numpy as np\n",
    "import pandas as pd\n",
    "import networkx as nx\n",
    "import matplotlib\n",
    "import matplotlib.pyplot as plt\n",
    "\n",
    "BACKEND = None  # use default\n",
    "if \"cugraph\" in nx.utils.backends.backends.keys():\n",
    "    import nx_cugraph as nxcg\n",
    "    BACKEND = \"cugraph\"\n",
    "\n",
    "print(\"Python Environment:\")\n",
    "print(f\" | Python version: {os.sys.version}\")\n",
    "print(f\" | Numpy version: {np.__version__}\")\n",
    "print(f\" | Pandas version: {pd.__version__}\")\n",
    "print(f\" | Matplotlib version: {matplotlib.__version__}\")\n",
    "print(f\" | NetworkX version: {nx.__version__}\")\n",
    "print(f\" | NetworkX backend: {BACKEND}\")\n",
    "print(\n",
    "    f\" | CuGraph version: {nxcg.__version__}\"\n",
    "    if BACKEND == \"cugraph\"\n",
    "    else \" | CuGraph not installed, for better performance install it like this:\\n\\tpip install cugraph-cu12 --extra-index-url=https://pypi.ngc.nvidia.com\"\n",
    ")\n",
    "print()\n",
    "print(\"Ressources:\")\n",
    "print(f\" | CPU: {os.cpu_count()} cores\")\n",
    "\n",
    "PAPERS = \"Pandora Papers\"\n",
    "GRAPH_PATH = f\"./data/{PAPERS.lower().replace(' ', '_')}_graph.gexf\""
   ]
  },
  {
   "cell_type": "markdown",
   "metadata": {},
   "source": [
    "## Daten laden"
   ]
  },
  {
   "cell_type": "code",
   "execution_count": 2,
   "metadata": {},
   "outputs": [
    {
     "name": "stdout",
     "output_type": "stream",
     "text": [
      "Info pre filtering:\n",
      "Number of edges:  145874\n",
      "Number of nodes:  108053\n",
      "Number of weakly connected components:  2643\n",
      "\n",
      "Filtering the graph after the country \"Switzerland\"\n",
      "\n",
      "Info post filtering:\n",
      "Number of edges:  127482\n",
      "Number of nodes:  91864\n",
      "Number of weakly connected components:  53\n"
     ]
    }
   ],
   "source": [
    "# Graph mit allen Nodes/Edges von den gewählten Papers laden\n",
    "G = utils.get_graph(GRAPH_PATH, PAPERS)\n",
    "\n",
    "# Subgraph mit allen Nodes/Edges von Connected Components welche mindestens 1 Schweizer Adresse beinhalten\n",
    "G = utils.filter_graph_by_country_name(G, \"Switzerland\", verbose=True)"
   ]
  },
  {
   "cell_type": "markdown",
   "metadata": {},
   "source": [
    "## Specific analysis..."
   ]
  }
 ],
 "metadata": {
  "kernelspec": {
   "display_name": "san-project-eQU7FBKZ-py3.11",
   "language": "python",
   "name": "python3"
  },
  "language_info": {
   "codemirror_mode": {
    "name": "ipython",
    "version": 3
   },
   "file_extension": ".py",
   "mimetype": "text/x-python",
   "name": "python",
   "nbconvert_exporter": "python",
   "pygments_lexer": "ipython3",
   "version": "3.10.12"
  }
 },
 "nbformat": 4,
 "nbformat_minor": 2
}
